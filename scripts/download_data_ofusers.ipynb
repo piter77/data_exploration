{
 "cells": [
  {
   "cell_type": "markdown",
   "metadata": {},
   "source": [
    "# DOWNLOAD MISSING DATA OF USERS"
   ]
  },
  {
   "cell_type": "code",
   "execution_count": 1,
   "metadata": {
    "scrolled": true
   },
   "outputs": [
    {
     "name": "stdout",
     "output_type": "stream",
     "text": [
      "Connected to the database\n",
      "Properly set all tables\n"
     ]
    },
    {
     "name": "stderr",
     "output_type": "stream",
     "text": [
      "/usr/local/lib/python2.7/site-packages/psycopg2/__init__.py:144: UserWarning: The psycopg2 wheel package will be renamed from release 2.8; in order to keep installing from binary please use \"pip install psycopg2-binary\" instead. For details see: <http://initd.org/psycopg/docs/install.html#binary-install-from-pypi>.\n",
      "  \"\"\")\n"
     ]
    }
   ],
   "source": [
    "import tweepy\n",
    "import csv\n",
    "import pandas as pd\n",
    "import psycopg2\n",
    "\n",
    "# Connect to DB\n",
    "\n",
    "consumer_key = 'KfMKNmydahwQSubsT297DpbYt'\n",
    "consumer_secret = 'ccCdXjEEM1vPsuA4sgJNAOTwW9EueZHejhBe42VjO2brWexLdt'\n",
    "access_token = '819912293521772548-hE5XFuCPGIh5K6GWKp541zwf06YJ4sg'\n",
    "access_token_secret = 'RQahNZKvkS5iVFr5bKF1PI9HpW6yxmhWyPI5weGKU5yaR'\n",
    "\n",
    "auth = tweepy.OAuthHandler(consumer_key, consumer_secret)\n",
    "auth.set_access_token(access_token, access_token_secret)\n",
    "api = tweepy.API(auth,wait_on_rate_limit=True)\n",
    "\n",
    "try:\n",
    "    conn = psycopg2.connect(\"dbname=eksploracja_danych user=postgres password=postgres\", host=\"localhost\")\n",
    "    print \"Connected to the database\"\n",
    "except:\n",
    "    print \"I am unable to connect to the database\"\n",
    "    \n",
    "cur = conn.cursor()\n",
    "\n",
    "# Try on connection\n",
    "\n",
    "try:\n",
    "    cur.execute(\"\"\"SELECT id, phrase FROM hashtag\"\"\")\n",
    "    cur.execute(\"\"\"SELECT author_id, tweet_id, date FROM re_tweet\"\"\")\n",
    "    cur.execute(\"\"\"SELECT id, name FROM author\"\"\")\n",
    "    cur.execute(\"\"\"SELECT id, author_id, searched_hashtag_id, date, content from tweet\"\"\")\n",
    "    print \"Properly set all tables\"\n",
    "except:\n",
    "    print \"I can't properly commit transactions to DB\""
   ]
  },
  {
   "cell_type": "code",
   "execution_count": 2,
   "metadata": {},
   "outputs": [
    {
     "name": "stdout",
     "output_type": "stream",
     "text": [
      "4448936200\n",
      "kozalinka53\n",
      "Teresa\n",
      "\n",
      "286\n",
      "157263\n",
      "2015-12-11 13:39:07\n",
      "False\n",
      "274\n"
     ]
    }
   ],
   "source": [
    "# TEST RUN\n",
    "\n",
    "user = api.lookup_users(['4448936200'])[0]\n",
    "print user.id\n",
    "print user.screen_name\n",
    "print user.name\n",
    "print user.description\n",
    "print user.followers_count\n",
    "print user.statuses_count\n",
    "print user.created_at\n",
    "print user.verified\n",
    "print user.friends_count\n",
    "\n",
    "# insert_author_details = \"\"\"INSERT INTO author \n",
    "# (id, name, screen_name, followers_count, statuses_count, created_at) \n",
    "# VALUES (%s, %s, %s, %s, %s, %s)\"\"\"\n",
    "\n",
    "# cur.execute(insert_author_details, (user.id, user.name, user.screen_name, \n",
    "#                                     user.followers_count, user.statuses_count, created_at))\n",
    "# conn.commit()"
   ]
  },
  {
   "cell_type": "code",
   "execution_count": null,
   "metadata": {},
   "outputs": [],
   "source": [
    "def zmien(n):\n",
    "    return int(n[0])\n",
    "\n",
    "cur.execute(\"\"\"SELECT id FROM author_backup\"\"\")\n",
    "ids = map(zmien, cur.fetchall())\n",
    "len(ids)"
   ]
  },
  {
   "cell_type": "code",
   "execution_count": 3,
   "metadata": {},
   "outputs": [],
   "source": [
    "def lookup_user_list(followers_id, api):\n",
    "    full_users = []\n",
    "    users_count = len(followers_id)\n",
    "    while True:\n",
    "        try:\n",
    "            for i in range((users_count / 100) + 1):\n",
    "                full_users.extend(api.lookup_users(user_ids=followers_id[i*100:min((i+1)*100, users_count)]))\n",
    "                print 'getting users batch:', i\n",
    "        except tweepy.TweepError as e:\n",
    "            print 'Something went wrong, quitting...', e\n",
    "            time.sleep(15 * 60)\n",
    "        return full_users"
   ]
  },
  {
   "cell_type": "code",
   "execution_count": null,
   "metadata": {},
   "outputs": [],
   "source": [
    "\n",
    "# idks = ['4448936200']\n",
    "tw_users = lookup_user_list(ids, api)\n",
    "for user in tw_users:\n",
    "    insert_author_details = \"\"\"INSERT INTO author \n",
    "    (id, name, screen_name, followers_count, statuses_count, created_at) \n",
    "    VALUES (%s, %s, %s, %s, %s, %s)\"\"\"\n",
    "\n",
    "    cur.execute(insert_author_details, (user.id, user.name, user.screen_name, \n",
    "                                        user.followers_count, user.statuses_count, user.created_at))\n",
    "    conn.commit()    "
   ]
  },
  {
   "cell_type": "code",
   "execution_count": null,
   "metadata": {},
   "outputs": [],
   "source": [
    "def zmien(n):\n",
    "    return int(n[0])\n",
    "\n",
    "cur.execute(\"\"\"select distinct author_id from re_tweet where author_id not in (select id from author)\"\"\")\n",
    "ids = map(zmien, cur.fetchall())\n",
    "len(ids)"
   ]
  },
  {
   "cell_type": "code",
   "execution_count": null,
   "metadata": {},
   "outputs": [],
   "source": [
    "\n",
    "# idks = ['4448936200']\n",
    "tw_users = lookup_user_list(ids, api)\n",
    "for user in tw_users:\n",
    "    insert_author_details = \"\"\"INSERT INTO author \n",
    "    (id, name, screen_name, followers_count, statuses_count, created_at) \n",
    "    VALUES (%s, %s, %s, %s, %s, %s)\"\"\"\n",
    "\n",
    "    cur.execute(insert_author_details, (user.id, user.name, user.screen_name, \n",
    "                                        user.followers_count, user.statuses_count, user.created_at))\n",
    "    conn.commit()  "
   ]
  },
  {
   "cell_type": "code",
   "execution_count": null,
   "metadata": {},
   "outputs": [],
   "source": [
    "# UPDATE AUTHORS\n"
   ]
  },
  {
   "cell_type": "code",
   "execution_count": null,
   "metadata": {},
   "outputs": [],
   "source": [
    "# TEST RUN\n",
    "\n",
    "user = api.lookup_users(['4448936200'])[0]\n",
    "print user.id\n",
    "print user.screen_name\n",
    "print user.name\n",
    "print user.description\n",
    "print user.followers_count\n",
    "print user.statuses_count\n",
    "print user.created_at\n",
    "print user.verified\n",
    "print user.friends_count\n",
    "\n",
    "update_author_details = \"\"\"UPDATE author \n",
    "SET\n",
    "verified = %s,\n",
    "friends_count = %s\n",
    "WHERE\n",
    "id = %s;\n",
    "\"\"\"\n",
    "\n",
    "\n",
    "cur.execute(update_author_details, (\n",
    "    user.verified, \n",
    "    user.friends_count, \n",
    "    user.id\n",
    "))\n",
    "\n",
    "conn.commit()"
   ]
  },
  {
   "cell_type": "code",
   "execution_count": null,
   "metadata": {},
   "outputs": [],
   "source": [
    "\n",
    "def zmien(n):\n",
    "    return int(n[0])\n",
    "\n",
    "cur.execute(\"\"\"select id from author\"\"\")\n",
    "ids = map(zmien, cur.fetchall())\n",
    "len(ids)\n"
   ]
  },
  {
   "cell_type": "code",
   "execution_count": null,
   "metadata": {},
   "outputs": [],
   "source": [
    "\n",
    "tw_users = lookup_user_list(ids, api)\n",
    "for user in tw_users:\n",
    "    cur.execute(update_author_details, (\n",
    "        user.verified, \n",
    "        user.friends_count, \n",
    "        user.id\n",
    "    ))\n",
    "\n",
    "    conn.commit()"
   ]
  },
  {
   "cell_type": "code",
   "execution_count": null,
   "metadata": {},
   "outputs": [],
   "source": [
    "## add authors for new tweets"
   ]
  },
  {
   "cell_type": "code",
   "execution_count": 6,
   "metadata": {},
   "outputs": [
    {
     "data": {
      "text/plain": [
       "39"
      ]
     },
     "execution_count": 6,
     "metadata": {},
     "output_type": "execute_result"
    }
   ],
   "source": [
    "def zmien(n):\n",
    "    return int(n[0])\n",
    "\n",
    "cur.execute(\"\"\"SELECT distinct author_id FROM tweet WHERE author_id::bigint not in (SELECT id FROM author);\"\"\")\n",
    "ids = map(zmien, cur.fetchall())\n",
    "len(ids)\n",
    "\n"
   ]
  },
  {
   "cell_type": "code",
   "execution_count": 7,
   "metadata": {},
   "outputs": [],
   "source": [
    "insert_author_details = \"\"\"INSERT INTO author \n",
    "    (id, name, screen_name, followers_count, statuses_count, created_at, verified, friends_count) \n",
    "    VALUES (%s, %s, %s, %s, %s, %s, %s, %s)\"\"\""
   ]
  },
  {
   "cell_type": "code",
   "execution_count": 8,
   "metadata": {},
   "outputs": [
    {
     "name": "stdout",
     "output_type": "stream",
     "text": [
      "getting users batch: 0\n"
     ]
    },
    {
     "ename": "ProgrammingError",
     "evalue": "syntax error at or near \",\"\nLINE 2: ...owers_count, statuses_count, created_at, verified,, friends_...\n                                                             ^\n",
     "output_type": "error",
     "traceback": [
      "\u001b[0;31m---------------------------------------------------------------------------\u001b[0m",
      "\u001b[0;31mProgrammingError\u001b[0m                          Traceback (most recent call last)",
      "\u001b[0;32m<ipython-input-8-6ae75fa11e9b>\u001b[0m in \u001b[0;36m<module>\u001b[0;34m()\u001b[0m\n\u001b[1;32m      4\u001b[0m     cur.execute(insert_author_details, (user.id, user.name, user.screen_name, \n\u001b[1;32m      5\u001b[0m                                         \u001b[0muser\u001b[0m\u001b[0;34m.\u001b[0m\u001b[0mfollowers_count\u001b[0m\u001b[0;34m,\u001b[0m \u001b[0muser\u001b[0m\u001b[0;34m.\u001b[0m\u001b[0mstatuses_count\u001b[0m\u001b[0;34m,\u001b[0m \u001b[0muser\u001b[0m\u001b[0;34m.\u001b[0m\u001b[0mcreated_at\u001b[0m\u001b[0;34m,\u001b[0m\u001b[0;34m\u001b[0m\u001b[0m\n\u001b[0;32m----> 6\u001b[0;31m                                        user.verified, user.friends_count))\n\u001b[0m\u001b[1;32m      7\u001b[0m     \u001b[0mconn\u001b[0m\u001b[0;34m.\u001b[0m\u001b[0mcommit\u001b[0m\u001b[0;34m(\u001b[0m\u001b[0;34m)\u001b[0m\u001b[0;34m\u001b[0m\u001b[0m\n",
      "\u001b[0;31mProgrammingError\u001b[0m: syntax error at or near \",\"\nLINE 2: ...owers_count, statuses_count, created_at, verified,, friends_...\n                                                             ^\n"
     ]
    }
   ],
   "source": [
    "tw_users = lookup_user_list(ids, api)\n",
    "for user in tw_users:\n",
    "\n",
    "    cur.execute(insert_author_details, (user.id, user.name, user.screen_name, \n",
    "                                        user.followers_count, user.statuses_count, user.created_at,\n",
    "                                       user.verified, user.friends_count))\n",
    "    conn.commit()  "
   ]
  }
 ],
 "metadata": {
  "kernelspec": {
   "display_name": "Python 2",
   "language": "python",
   "name": "python2"
  },
  "language_info": {
   "codemirror_mode": {
    "name": "ipython",
    "version": 2
   },
   "file_extension": ".py",
   "mimetype": "text/x-python",
   "name": "python",
   "nbconvert_exporter": "python",
   "pygments_lexer": "ipython2",
   "version": "2.7.15"
  }
 },
 "nbformat": 4,
 "nbformat_minor": 2
}
