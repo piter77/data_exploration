{
 "cells": [
  {
   "cell_type": "markdown",
   "metadata": {},
   "source": [
    "# ANALYSIS: PLOTS"
   ]
  },
  {
   "cell_type": "code",
   "execution_count": 18,
   "metadata": {
    "scrolled": true
   },
   "outputs": [
    {
     "name": "stdout",
     "output_type": "stream",
     "text": [
      "Connected to the database\n",
      "Properly set all tables\n"
     ]
    }
   ],
   "source": [
    "import tweepy\n",
    "import csv\n",
    "import pandas as pd\n",
    "import psycopg2\n",
    "\n",
    "try:\n",
    "    conn = psycopg2.connect(\"dbname=eksploracja_danych user=postgres password=postgres\", host=\"localhost\")\n",
    "    print \"Connected to the database\"\n",
    "except:\n",
    "    print \"I am unable to connect to the database\"\n",
    "    \n",
    "cur = conn.cursor()\n",
    "\n",
    "# Try on connection\n",
    "\n",
    "try:\n",
    "    cur.execute(\"\"\"SELECT id, phrase FROM hashtag\"\"\")\n",
    "    cur.execute(\"\"\"SELECT author_id, tweet_id, date FROM re_tweet\"\"\")\n",
    "    cur.execute(\"\"\"SELECT id, name FROM author\"\"\")\n",
    "    cur.execute(\"\"\"SELECT id, author_id, searched_hashtag_id, date, content from tweet\"\"\")\n",
    "    print \"Properly set all tables\"\n",
    "except:\n",
    "    print \"I can't properly commit transactions to DB\""
   ]
  },
  {
   "cell_type": "code",
   "execution_count": 2,
   "metadata": {},
   "outputs": [],
   "source": [
    "\n",
    "# -- średnie wszystkiego bez podziału na autorów\n",
    "# select avg(followers_count), stddev_samp(followers_count), min(followers_count), max(followers_count) from author;\n",
    "# select avg(statuses_count), stddev_samp(statuses_count), min(statuses_count), max(statuses_count) from author;\n",
    "# select avg(friends_count), stddev_samp(friends_count), min(friends_count), max(friends_count) from author;\n",
    "# select avg(retweet_count), stddev_samp(retweet_count), min(retweet_count), max(retweet_count) from tweet;\n",
    "# select avg(favorite_count), stddev_samp(favorite_count), min(favorite_count), max(favorite_count) from tweet;\n",
    "# select avg(array_length(regexp_split_to_array(tweet.content, ' '), 1)) as tweet_len from author inner join tweet on author.id::bigint = tweet.author_id::bigint;\n",
    "\n",
    "# -- średnie per autor\n",
    "\n",
    "# -- srednia ilość znaków w tweet per author\n",
    "# select avg(array_length(regexp_split_to_array(tweet.content, ' '), 1)) as tweet_len, author_id from tweet group by author_id order by tweet_len desc\n",
    "\n",
    "# -- srednia ilość rt tweeta per author\n",
    "# select avg(retweet_count) as tweet_rt, author_id from tweet group by author_id order by tweet_rt desc\n",
    "\n",
    "# -- srednia polubien twittow per author\n",
    "# select avg(favorite_count) as tweet_fav, author_id from tweet group by author_id order by tweet_fav desc\n",
    "\n",
    "# -- statystyki dla autorów wszystkich\n",
    "\n",
    "# -- srednia, stddev, min, max RT twittow autorow\n",
    "# select avg(r.tweet_rt), stddev_samp(r.tweet_rt), min(r.tweet_rt), max(r.tweet_rt) from (select avg(retweet_count) as tweet_rt from tweet group by author_id) as r;\n",
    "\n",
    "# -- srednia, stddev, min, max polubien twittow autorow\n",
    "# select avg(r.tweet_fav), stddev_samp(r.tweet_fav), min(r.tweet_fav), max(r.tweet_fav) from (select avg(favorite_count) as tweet_fav from tweet group by author_id) as r;\n",
    "\n",
    "# -- srednia ilość znaków w tweet autorow\n",
    "# select avg(r.tweet_len), stddev_samp(r.tweet_len), min(r.tweet_len), max(r.tweet_len) from (select avg(array_length(regexp_split_to_array(tweet.content, ' '), 1)) as tweet_len from tweet group by author_id) as r; \n"
   ]
  },
  {
   "cell_type": "code",
   "execution_count": 3,
   "metadata": {},
   "outputs": [],
   "source": [
    "import matplotlib.pyplot as plt\n",
    "import numpy as np\n",
    "import math\n",
    "\n",
    "def plot_values(title, sql, avg):\n",
    "    cur.execute(sql)\n",
    "    conn.commit()\n",
    "    result = cur.fetchall()\n",
    "    # print(result[0:10])\n",
    "    fba = [0 if x[1] is None else math.sqrt(int(x[1])) for x in result]\n",
    "    # print(fba[:10])\n",
    "    fba.sort(reverse=True)\n",
    "    # print(fba[:10])\n",
    "\n",
    "\n",
    "    x = np.arange(len(fba))\n",
    "\n",
    "    fig, ax = plt.subplots(figsize=(15, 5))\n",
    "    plt.suptitle(title)\n",
    "    plt.bar(x, fba)\n",
    "    plt.plot(np.ones(len(fba))*math.sqrt(avg), color='red')\n",
    "    plt.xticks([])\n",
    "    plt.show()\n",
    "\n"
   ]
  },
  {
   "cell_type": "markdown",
   "metadata": {},
   "source": [
    "## FOLLOWERS"
   ]
  },
  {
   "cell_type": "code",
   "execution_count": 4,
   "metadata": {},
   "outputs": [
    {
     "name": "stdout",
     "output_type": "stream",
     "text": [
      "FOLLOWERS\n",
      "2184.1743976581850934\n",
      "0\n",
      "875777\n",
      "19551.86984960\n"
     ]
    }
   ],
   "source": [
    "followers_avg_sql = \"select avg(followers_count) from author;\"\n",
    "followers_min_sql = \"select min(followers_count) from author;\"\n",
    "followers_max_sql = \"select max(followers_count) from author;\"\n",
    "followers_stddev_sql = \"select stddev(followers_count) from author;\"\n",
    "\n",
    "cur.execute(followers_avg_sql)\n",
    "conn.commit()\n",
    "followers_avg = cur.fetchone()[0]\n",
    "\n",
    "cur.execute(followers_min_sql)\n",
    "conn.commit()\n",
    "followers_min = cur.fetchone()[0]\n",
    "\n",
    "cur.execute(followers_max_sql)\n",
    "conn.commit()\n",
    "followers_max = cur.fetchone()[0]\n",
    "\n",
    "cur.execute(followers_stddev_sql)\n",
    "conn.commit()\n",
    "followers_stddev = cur.fetchone()[0]\n",
    "\n",
    "print(\"FOLLOWERS\")\n",
    "print(followers_avg)\n",
    "print(followers_min)\n",
    "print(followers_max)\n",
    "print(followers_stddev)"
   ]
  },
  {
   "cell_type": "code",
   "execution_count": 5,
   "metadata": {},
   "outputs": [
    {
     "data": {
      "image/png": "[encoded data removed]",
      "text/plain": [
       "<Figure size 1080x360 with 1 Axes>"
      ]
     },
     "metadata": {
      "needs_background": "light"
     },
     "output_type": "display_data"
    }
   ],
   "source": [
    "followers_by_authors_sql = \"select name, followers_count from author\"\n",
    "\n",
    "plot_values('Followers per authors', \n",
    "           followers_by_authors_sql, \n",
    "           followers_avg)"
   ]
  },
  {
   "cell_type": "markdown",
   "metadata": {},
   "source": [
    "## STATUSES"
   ]
  },
  {
   "cell_type": "code",
   "execution_count": 6,
   "metadata": {},
   "outputs": [
    {
     "name": "stdout",
     "output_type": "stream",
     "text": [
      "STATUSES\n",
      "17173.346430984013\n",
      "0\n",
      "620478\n",
      "32765.07816189\n"
     ]
    }
   ],
   "source": [
    "statuses_avg_sql = \"select avg(statuses_count) from author;\"\n",
    "statuses_min_sql = \"select min(statuses_count) from author;\"\n",
    "statuses_max_sql = \"select max(statuses_count) from author;\"\n",
    "statuses_stddev_sql = \"select stddev(statuses_count) from author;\"\n",
    "\n",
    "cur.execute(statuses_avg_sql)\n",
    "conn.commit()\n",
    "statuses_avg = cur.fetchone()[0]\n",
    "\n",
    "cur.execute(statuses_min_sql)\n",
    "conn.commit()\n",
    "statuses_min = cur.fetchone()[0]\n",
    "\n",
    "cur.execute(statuses_max_sql)\n",
    "conn.commit()\n",
    "statuses_max = cur.fetchone()[0]\n",
    "\n",
    "cur.execute(statuses_stddev_sql)\n",
    "conn.commit()\n",
    "statuses_stddev = cur.fetchone()[0]\n",
    "\n",
    "print(\"STATUSES\")\n",
    "print(statuses_avg)\n",
    "print(statuses_min)\n",
    "print(statuses_max)\n",
    "print(statuses_stddev)"
   ]
  },
  {
   "cell_type": "code",
   "execution_count": 7,
   "metadata": {},
   "outputs": [
    {
     "data": {
      "image/png": "[encoded data removed]",
      "text/plain": [
       "<Figure size 1080x360 with 1 Axes>"
      ]
     },
     "metadata": {
      "needs_background": "light"
     },
     "output_type": "display_data"
    }
   ],
   "source": [
    "statuses_by_authors_sql = \"select name, statuses_count from author\"\n",
    "\n",
    "plot_values('Tweets per authors', \n",
    "           statuses_by_authors_sql, \n",
    "           statuses_avg)"
   ]
  },
  {
   "cell_type": "markdown",
   "metadata": {},
   "source": [
    "## FRIENDS"
   ]
  },
  {
   "cell_type": "code",
   "execution_count": 8,
   "metadata": {},
   "outputs": [
    {
     "name": "stdout",
     "output_type": "stream",
     "text": [
      "FRIENDS\n",
      "814.3935018050541516\n",
      "0\n",
      "87814\n",
      "1418.449193034295\n"
     ]
    }
   ],
   "source": [
    "friends_avg_sql = \"select avg(friends_count) from author;\"\n",
    "friends_min_sql = \"select min(friends_count) from author;\"\n",
    "friends_max_sql = \"select max(friends_count) from author;\"\n",
    "friends_stddev_sql = \"select stddev(friends_count) from author;\"\n",
    "\n",
    "cur.execute(friends_avg_sql)\n",
    "conn.commit()\n",
    "friends_avg = cur.fetchone()[0]\n",
    "\n",
    "cur.execute(friends_min_sql)\n",
    "conn.commit()\n",
    "friends_min = cur.fetchone()[0]\n",
    "\n",
    "cur.execute(friends_max_sql)\n",
    "conn.commit()\n",
    "friends_max = cur.fetchone()[0]\n",
    "\n",
    "cur.execute(friends_stddev_sql)\n",
    "conn.commit()\n",
    "friends_stddev = cur.fetchone()[0]\n",
    "\n",
    "print(\"FRIENDS\")\n",
    "print(friends_avg)\n",
    "print(friends_min)\n",
    "print(friends_max)\n",
    "print(friends_stddev)"
   ]
  },
  {
   "cell_type": "code",
   "execution_count": 9,
   "metadata": {},
   "outputs": [
    {
     "data": {
      "image/png": "[encoded data removed]",
      "text/plain": [
       "<Figure size 1080x360 with 1 Axes>"
      ]
     },
     "metadata": {
      "needs_background": "light"
     },
     "output_type": "display_data"
    }
   ],
   "source": [
    "friends_by_authors_sql = \"select name, friends_count from author where friends_count is not null\"\n",
    "\n",
    "plot_values('Friends per authors', \n",
    "           friends_by_authors_sql, \n",
    "           friends_avg)"
   ]
  },
  {
   "cell_type": "markdown",
   "metadata": {},
   "source": [
    "## RETWEETS"
   ]
  },
  {
   "cell_type": "code",
   "execution_count": 10,
   "metadata": {},
   "outputs": [
    {
     "name": "stdout",
     "output_type": "stream",
     "text": [
      "RETWEETS\n",
      "10.2001834441641825\n",
      "0\n",
      "1038\n",
      "44.1889765817504231\n"
     ]
    }
   ],
   "source": [
    "retweet_avg_sql = \"select avg(retweet_count) from tweet;\"\n",
    "retweet_min_sql = \"select min(retweet_count) from tweet;\"\n",
    "retweet_max_sql = \"select max(retweet_count) from tweet;\"\n",
    "retweet_stddev_sql = \"select stddev(retweet_count) from tweet;\"\n",
    "\n",
    "cur.execute(retweet_avg_sql)\n",
    "conn.commit()\n",
    "retweet_avg = cur.fetchone()[0]\n",
    "\n",
    "cur.execute(retweet_min_sql)\n",
    "conn.commit()\n",
    "retweet_min = cur.fetchone()[0]\n",
    "\n",
    "cur.execute(retweet_max_sql)\n",
    "conn.commit()\n",
    "retweet_max = cur.fetchone()[0]\n",
    "\n",
    "cur.execute(retweet_stddev_sql)\n",
    "conn.commit()\n",
    "retweet_stddev = cur.fetchone()[0]\n",
    "\n",
    "print(\"RETWEETS\")\n",
    "print(retweet_avg)\n",
    "print(retweet_min)\n",
    "print(retweet_max)\n",
    "print(retweet_stddev)"
   ]
  },
  {
   "cell_type": "code",
   "execution_count": 11,
   "metadata": {},
   "outputs": [
    {
     "data": {
      "image/png": "[encoded data removed]",
      "text/plain": [
       "<Figure size 1080x360 with 1 Axes>"
      ]
     },
     "metadata": {
      "needs_background": "light"
     },
     "output_type": "display_data"
    }
   ],
   "source": [
    "retweets_per_tweet_sql = \"select id, retweet_count from tweet where retweet_count is not null\"\n",
    "\n",
    "plot_values('Retweets per tweet', \n",
    "           retweets_per_tweet_sql, \n",
    "           retweet_avg)"
   ]
  },
  {
   "cell_type": "markdown",
   "metadata": {},
   "source": [
    "## FAVOURITES"
   ]
  },
  {
   "cell_type": "code",
   "execution_count": 12,
   "metadata": {},
   "outputs": [
    {
     "name": "stdout",
     "output_type": "stream",
     "text": [
      "FAVORITES\n",
      "33.6161430864480624\n",
      "0\n",
      "4371\n",
      "155.012658127354\n"
     ]
    }
   ],
   "source": [
    "favorite_avg_sql = \"select avg(favorite_count) from tweet;\"\n",
    "favorite_min_sql = \"select min(favorite_count) from tweet;\"\n",
    "favorite_max_sql = \"select max(favorite_count) from tweet;\"\n",
    "favorite_stddev_sql = \"select stddev(favorite_count) from tweet;\"\n",
    "\n",
    "cur.execute(favorite_avg_sql)\n",
    "conn.commit()\n",
    "favorite_avg = cur.fetchone()[0]\n",
    "\n",
    "cur.execute(favorite_min_sql)\n",
    "conn.commit()\n",
    "favorite_min = cur.fetchone()[0]\n",
    "\n",
    "cur.execute(favorite_max_sql)\n",
    "conn.commit()\n",
    "favorite_max = cur.fetchone()[0]\n",
    "\n",
    "cur.execute(favorite_stddev_sql)\n",
    "conn.commit()\n",
    "favorite_stddev = cur.fetchone()[0]\n",
    "\n",
    "print(\"FAVORITES\")\n",
    "print(favorite_avg)\n",
    "print(favorite_min)\n",
    "print(favorite_max)\n",
    "print(favorite_stddev)"
   ]
  },
  {
   "cell_type": "code",
   "execution_count": 13,
   "metadata": {},
   "outputs": [
    {
     "data": {
      "image/png": "[encoded data removed]",
      "text/plain": [
       "<Figure size 1080x360 with 1 Axes>"
      ]
     },
     "metadata": {
      "needs_background": "light"
     },
     "output_type": "display_data"
    }
   ],
   "source": [
    "favs_per_tweet_sql = \"select id, favorite_count from tweet where favorite_count is not null\"\n",
    "\n",
    "plot_values('Favs per tweet', \n",
    "           favs_per_tweet_sql, \n",
    "           favorite_avg)"
   ]
  },
  {
   "cell_type": "markdown",
   "metadata": {},
   "source": [
    "## Tweets in DB per author"
   ]
  },
  {
   "cell_type": "code",
   "execution_count": 14,
   "metadata": {},
   "outputs": [
    {
     "name": "stdout",
     "output_type": "stream",
     "text": [
      "FAVORITES\n",
      "1.7989374744585206\n",
      "1\n",
      "158\n",
      "5.3244325390804762\n"
     ]
    }
   ],
   "source": [
    "tweets_in_db_avg_sql = \"select avg(ag.ct) from (select count(id) as ct, author_id from tweet group by author_id) as ag;\"\n",
    "tweets_in_db_min_sql = \"select min(ag.ct) from (select count(id) as ct, author_id from tweet group by author_id) as ag;\"\n",
    "tweets_in_db_max_sql = \"select max(ag.ct) from (select count(id) as ct, author_id from tweet group by author_id) as ag;\"\n",
    "tweets_in_db_stddev_sql = \"select stddev(ag.ct) from (select count(id) as ct, author_id from tweet group by author_id) as ag;\"\n",
    "\n",
    "cur.execute(tweets_in_db_avg_sql)\n",
    "conn.commit()\n",
    "favorite_avg = cur.fetchone()[0]\n",
    "\n",
    "cur.execute(tweets_in_db_min_sql)\n",
    "conn.commit()\n",
    "favorite_min = cur.fetchone()[0]\n",
    "\n",
    "cur.execute(tweets_in_db_max_sql)\n",
    "conn.commit()\n",
    "favorite_max = cur.fetchone()[0]\n",
    "\n",
    "cur.execute(tweets_in_db_stddev_sql)\n",
    "conn.commit()\n",
    "favorite_stddev = cur.fetchone()[0]\n",
    "\n",
    "print(\"FAVORITES\")\n",
    "print(favorite_avg)\n",
    "print(favorite_min)\n",
    "print(favorite_max)\n",
    "print(favorite_stddev)"
   ]
  },
  {
   "cell_type": "code",
   "execution_count": 19,
   "metadata": {},
   "outputs": [
    {
     "ename": "TypeError",
     "evalue": "unsupported operand type(s) for *: 'float' and 'Decimal'",
     "output_type": "error",
     "traceback": [
      "\u001b[0;31m---------------------------------------------------------------------------\u001b[0m",
      "\u001b[0;31mTypeError\u001b[0m                                 Traceback (most recent call last)",
      "\u001b[0;32m<ipython-input-19-04e9cd030bf0>\u001b[0m in \u001b[0;36m<module>\u001b[0;34m()\u001b[0m\n\u001b[1;32m     23\u001b[0m plot_values('Tweets in db per author', \n\u001b[1;32m     24\u001b[0m            \u001b[0mtweets_in_db_per_author_sql\u001b[0m\u001b[0;34m,\u001b[0m\u001b[0;34m\u001b[0m\u001b[0m\n\u001b[0;32m---> 25\u001b[0;31m            favorite_avg)\n\u001b[0m",
      "\u001b[0;32m<ipython-input-19-04e9cd030bf0>\u001b[0m in \u001b[0;36mplot_values\u001b[0;34m(title, sql, avg)\u001b[0m\n\u001b[1;32m     15\u001b[0m     \u001b[0mplt\u001b[0m\u001b[0;34m.\u001b[0m\u001b[0msuptitle\u001b[0m\u001b[0;34m(\u001b[0m\u001b[0mtitle\u001b[0m\u001b[0;34m)\u001b[0m\u001b[0;34m\u001b[0m\u001b[0m\n\u001b[1;32m     16\u001b[0m     \u001b[0mplt\u001b[0m\u001b[0;34m.\u001b[0m\u001b[0mbar\u001b[0m\u001b[0;34m(\u001b[0m\u001b[0mx\u001b[0m\u001b[0;34m,\u001b[0m \u001b[0mfba\u001b[0m\u001b[0;34m)\u001b[0m\u001b[0;34m\u001b[0m\u001b[0m\n\u001b[0;32m---> 17\u001b[0;31m     \u001b[0mplt\u001b[0m\u001b[0;34m.\u001b[0m\u001b[0mplot\u001b[0m\u001b[0;34m(\u001b[0m\u001b[0mnp\u001b[0m\u001b[0;34m.\u001b[0m\u001b[0mones\u001b[0m\u001b[0;34m(\u001b[0m\u001b[0mlen\u001b[0m\u001b[0;34m(\u001b[0m\u001b[0mfba\u001b[0m\u001b[0;34m)\u001b[0m\u001b[0;34m)\u001b[0m\u001b[0;34m*\u001b[0m\u001b[0mavg\u001b[0m\u001b[0;34m,\u001b[0m \u001b[0mcolor\u001b[0m\u001b[0;34m=\u001b[0m\u001b[0;34m'red'\u001b[0m\u001b[0;34m)\u001b[0m\u001b[0;34m\u001b[0m\u001b[0m\n\u001b[0m\u001b[1;32m     18\u001b[0m     \u001b[0mplt\u001b[0m\u001b[0;34m.\u001b[0m\u001b[0mxticks\u001b[0m\u001b[0;34m(\u001b[0m\u001b[0;34m[\u001b[0m\u001b[0;34m]\u001b[0m\u001b[0;34m)\u001b[0m\u001b[0;34m\u001b[0m\u001b[0m\n\u001b[1;32m     19\u001b[0m     \u001b[0mplt\u001b[0m\u001b[0;34m.\u001b[0m\u001b[0mshow\u001b[0m\u001b[0;34m(\u001b[0m\u001b[0;34m)\u001b[0m\u001b[0;34m\u001b[0m\u001b[0m\n",
      "\u001b[0;31mTypeError\u001b[0m: unsupported operand type(s) for *: 'float' and 'Decimal'"
     ]
    },
    {
     "data": {
      "image/png": "[encoded data removed]",
      "text/plain": [
       "<Figure size 1080x360 with 1 Axes>"
      ]
     },
     "metadata": {
      "needs_background": "light"
     },
     "output_type": "display_data"
    }
   ],
   "source": [
    "def plot_values(title, sql, avg):\n",
    "    cur.execute(sql)\n",
    "    conn.commit()\n",
    "    result = cur.fetchall()\n",
    "    # print(result[0:10])\n",
    "    fba = [0 if x[1] is None else float(x[1]) for x in result]\n",
    "    # print(fba[:10])\n",
    "    fba.sort(reverse=True)\n",
    "    # print(fba[:10])\n",
    "\n",
    "\n",
    "    x = np.arange(len(fba))\n",
    "\n",
    "    fig, ax = plt.subplots(figsize=(15, 5))\n",
    "    plt.suptitle(title)\n",
    "    plt.bar(x, fba)\n",
    "    plt.plot(np.ones(len(fba))*avg, color='red')\n",
    "    plt.xticks([])\n",
    "    plt.show()\n",
    "\n",
    "tweets_in_db_per_author_sql = \"select count(id) as ct, author_id from tweet group by author_id order by ct desc\"\n",
    "\n",
    "plot_values('Tweets in db per author', \n",
    "           tweets_in_db_per_author_sql, \n",
    "           favorite_avg)"
   ]
  },
  {
   "cell_type": "markdown",
   "metadata": {},
   "source": [
    "## Tweets per dates"
   ]
  },
  {
   "cell_type": "code",
   "execution_count": 17,
   "metadata": {},
   "outputs": [
    {
     "name": "stdout",
     "output_type": "stream",
     "text": [
      "[('11-06', 1344L), ('11-05', 2495L), ('11-04', 3877L), ('11-03', 462L), ('11-02', 1984L), ('11-01', 403L), ('10-31', 1112L), ('10-30', 979L), ('10-29', 1745L), ('10-28', 1359L)]\n",
      "[1344, 2495, 3877, 462, 1984, 403, 1112, 979, 1745, 1359]\n",
      "['11-06', '11-05', '11-04', '11-03', '11-02', '11-01', '10-31', '10-30', '10-29', '10-28']\n"
     ]
    },
    {
     "data": {
      "image/png": "[encoded data removed]",
      "text/plain": [
       "<Figure size 1080x360 with 1 Axes>"
      ]
     },
     "metadata": {
      "needs_background": "light"
     },
     "output_type": "display_data"
    }
   ],
   "source": [
    "import matplotlib.pyplot as plt\n",
    "import numpy as np\n",
    "import math\n",
    "\n",
    "def plot_values(title, sql):\n",
    "    cur.execute(sql)\n",
    "    conn.commit()\n",
    "    result = cur.fetchall()\n",
    "    print(result[0:10])\n",
    "    values = [int(x[1]) for x in result]\n",
    "    labels = [x[0] for x in result]\n",
    "    print(values[:10])\n",
    "    print(labels[:10])\n",
    "\n",
    "\n",
    "    x = np.arange(len(values))\n",
    "\n",
    "    fig, ax = plt.subplots(figsize=(15, 5))\n",
    "    plt.suptitle(title)\n",
    "    plt.bar(x, values)\n",
    "    plt.xticks(x, labels)\n",
    "    plt.show()\n",
    "    \n",
    "query = \"\"\"select substring(un.kiedy, 6, 12) as kiedy, count(*) as tweets \n",
    "from (select tweet.id as id, substring(tweet.date, 1, 10) as kiedy from tweet\n",
    "union \n",
    "select tweet_id as id, to_char(re_tweet.\"date\", 'YYYY-MM-DD') as kiedy from re_tweet) as un\n",
    "group by kiedy\n",
    "order by kiedy desc\n",
    "limit 17 offset 1\"\"\"\n",
    "\n",
    "plot_values('Tweets per day', \n",
    "    query)"
   ]
  }
 ],
 "metadata": {
  "kernelspec": {
   "display_name": "Python 2",
   "language": "python",
   "name": "python2"
  },
  "language_info": {
   "codemirror_mode": {
    "name": "ipython",
    "version": 2
   },
   "file_extension": ".py",
   "mimetype": "text/x-python",
   "name": "python",
   "nbconvert_exporter": "python",
   "pygments_lexer": "ipython2",
   "version": "2.7.15"
  }
 },
 "nbformat": 4,
 "nbformat_minor": 2
}
