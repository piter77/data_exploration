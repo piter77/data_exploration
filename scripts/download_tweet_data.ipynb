{
 "cells": [
  {
   "cell_type": "markdown",
   "metadata": {},
   "source": [
    "# DOWNLOAD MISSING TWEET DATA"
   ]
  },
  {
   "cell_type": "code",
   "execution_count": 14,
   "metadata": {
    "scrolled": true
   },
   "outputs": [
    {
     "name": "stdout",
     "output_type": "stream",
     "text": [
      "Connected to the database\n",
      "Properly set all tables\n"
     ]
    }
   ],
   "source": [
    "import tweepy\n",
    "import csv\n",
    "import pandas as pd\n",
    "import psycopg2\n",
    "\n",
    "# Connect to DB\n",
    "\n",
    "consumer_key = 'KfMKNmydahwQSubsT297DpbYt'\n",
    "consumer_secret = 'ccCdXjEEM1vPsuA4sgJNAOTwW9EueZHejhBe42VjO2brWexLdt'\n",
    "access_token = '819912293521772548-hE5XFuCPGIh5K6GWKp541zwf06YJ4sg'\n",
    "access_token_secret = 'RQahNZKvkS5iVFr5bKF1PI9HpW6yxmhWyPI5weGKU5yaR'\n",
    "\n",
    "auth = tweepy.OAuthHandler(consumer_key, consumer_secret)\n",
    "auth.set_access_token(access_token, access_token_secret)\n",
    "api = tweepy.API(auth,wait_on_rate_limit=True)\n",
    "\n",
    "try:\n",
    "    conn = psycopg2.connect(\"dbname=eksploracja_danych user=postgres password=postgres\", host=\"localhost\")\n",
    "    print \"Connected to the database\"\n",
    "except:\n",
    "    print \"I am unable to connect to the database\"\n",
    "    \n",
    "cur = conn.cursor()\n",
    "\n",
    "# Try on connection\n",
    "\n",
    "try:\n",
    "    cur.execute(\"\"\"SELECT id, phrase FROM hashtag\"\"\")\n",
    "    cur.execute(\"\"\"SELECT author_id, tweet_id, date FROM re_tweet\"\"\")\n",
    "    cur.execute(\"\"\"SELECT id, name FROM author\"\"\")\n",
    "    cur.execute(\"\"\"SELECT id, author_id, searched_hashtag_id, date, content from tweet\"\"\")\n",
    "    print \"Properly set all tables\"\n",
    "except:\n",
    "    print \"I can't properly commit transactions to DB\""
   ]
  },
  {
   "cell_type": "code",
   "execution_count": 3,
   "metadata": {},
   "outputs": [],
   "source": [
    "update_tweet_details = \"\"\" UPDATE tweet \n",
    "SET \n",
    "source_device = %s, \n",
    "in_reply_to_status_id = %s, \n",
    "in_reply_to_user_id = %s, \n",
    "in_reply_to_screen_name = %s, \n",
    "retweet_count = %s, \n",
    "favorite_count = %s, \n",
    "retweeted = %s, \n",
    "retweeted_tweet_id = %s, \n",
    "retweeted_tweet_author = %s \n",
    "WHERE \n",
    "id = %s;\n",
    "\"\"\""
   ]
  },
  {
   "cell_type": "code",
   "execution_count": 5,
   "metadata": {},
   "outputs": [
    {
     "name": "stdout",
     "output_type": "stream",
     "text": [
      "1059219868061483008\n",
      "W Łomży kandydat bezpartyjny zdobył 75%, kandydatka PIS - 25%  #wyborysamorzadowe2018\n",
      "None\n",
      "None\n",
      "None\n",
      "1\n",
      "1\n",
      "False\n",
      "3566100495\n",
      "None\n",
      "None\n"
     ]
    }
   ],
   "source": [
    "# status = api.get_status(1059414915323170817)\n",
    "# status = api.get_status(1055502223747268608)\n",
    "status = api.get_status(1059219868061483008)\n",
    "\n",
    "print status.id\n",
    "print status.text\n",
    "print status.in_reply_to_status_id\n",
    "print status.in_reply_to_user_id\n",
    "print status.in_reply_to_screen_name\n",
    "print status.retweet_count\n",
    "print status.favorite_count\n",
    "print status.retweeted\n",
    "print status.user.id\n",
    "try:\n",
    "    print status.retweeted_status.id\n",
    "    print status.retweeted_status.user.id\n",
    "except:\n",
    "    print 'None'\n",
    "    print 'None'\n",
    "\n",
    "try:\n",
    "    retweeted_tweet_id = status.retweeted_status.id\n",
    "    retweeted_tweet_author =  status.retweeted_status.user.id\n",
    "except:\n",
    "    retweeted_tweet_id = None\n",
    "    retweeted_tweet_author =  None\n",
    "\n",
    "cur.execute(update_tweet_details, (status.source, \n",
    "                                    status.in_reply_to_status_id, \n",
    "                                    status.in_reply_to_user_id,\n",
    "                                    status.in_reply_to_screen_name,\n",
    "                                    status.retweet_count,\n",
    "                                    status.favorite_count,\n",
    "                                    status.retweeted,\n",
    "                                    retweeted_tweet_id, \n",
    "                                    retweeted_tweet_author,\n",
    "                                    status.id\n",
    "                                   ))\n",
    "conn.commit()"
   ]
  },
  {
   "cell_type": "code",
   "execution_count": 15,
   "metadata": {},
   "outputs": [
    {
     "name": "stdout",
     "output_type": "stream",
     "text": [
      "4261\n"
     ]
    }
   ],
   "source": [
    "# GET ALL IDS OF TWEETS TO UPDATE\n",
    "\n",
    "def zmien(n):\n",
    "    return int(n[0])\n",
    "\n",
    "cur.execute(\"\"\"SELECT id FROM tweet\"\"\")\n",
    "ids = map(zmien, cur.fetchall())\n",
    "print len(ids)"
   ]
  },
  {
   "cell_type": "code",
   "execution_count": 5,
   "metadata": {},
   "outputs": [],
   "source": [
    "# METHOD FOR DOWNLOADING DATA ABOUT STATusES FOR PROVIDED IDS\n",
    "def lookup_tweets_list(tweets_id, api):\n",
    "    full_tweets = []\n",
    "    tweets_count = len(tweets_id)\n",
    "    while True:\n",
    "        try:\n",
    "            for i in range((tweets_count / 100) + 1):\n",
    "                full_tweets.extend(api.statuses_lookup(tweets_id[i*100:min((i+1)*100, tweets_count)]))\n",
    "                print 'getting tweets batch:', i\n",
    "        except tweepy.TweepError as e:\n",
    "            print 'Something went wrong, quitting...', e\n",
    "            time.sleep(15 * 60)\n",
    "        return full_tweets"
   ]
  },
  {
   "cell_type": "code",
   "execution_count": 10,
   "metadata": {},
   "outputs": [
    {
     "name": "stdout",
     "output_type": "stream",
     "text": [
      "Starting download..\n",
      "getting tweets batch: 0\n",
      "getting tweets batch: 1\n",
      "getting tweets batch: 2\n",
      "getting tweets batch: 3\n",
      "getting tweets batch: 4\n",
      "getting tweets batch: 5\n",
      "getting tweets batch: 6\n",
      "getting tweets batch: 7\n",
      "getting tweets batch: 8\n",
      "getting tweets batch: 9\n",
      "getting tweets batch: 10\n",
      "getting tweets batch: 11\n",
      "getting tweets batch: 12\n",
      "getting tweets batch: 13\n",
      "getting tweets batch: 14\n",
      "getting tweets batch: 15\n",
      "getting tweets batch: 16\n",
      "getting tweets batch: 17\n",
      "getting tweets batch: 18\n",
      "getting tweets batch: 19\n",
      "getting tweets batch: 20\n",
      "getting tweets batch: 21\n",
      "getting tweets batch: 22\n",
      "getting tweets batch: 23\n",
      "inserting...\n"
     ]
    }
   ],
   "source": [
    "# DWONLOADING STATUSES DATA\n",
    "print \"Starting download..\"\n",
    "tweets = lookup_tweets_list(ids, api)\n",
    "\n",
    "print \"inserting...\"\n",
    "for status in tweets:\n",
    "    try:\n",
    "        retweeted_tweet_id = status.retweeted_status.id\n",
    "        retweeted_tweet_author =  status.retweeted_status.user.id\n",
    "    except:\n",
    "        retweeted_tweet_id = None\n",
    "        retweeted_tweet_author =  None\n",
    "    \n",
    "    cur.execute(update_tweet_details, (status.source, \n",
    "                                       status.in_reply_to_status_id, \n",
    "                                       status.in_reply_to_user_id,\n",
    "                                       status.in_reply_to_screen_name,\n",
    "                                       status.retweet_count,\n",
    "                                       status.favorite_count,\n",
    "                                       status.retweeted,\n",
    "                                       retweeted_tweet_id, \n",
    "                                       retweeted_tweet_author,\n",
    "                                       status.id\n",
    "                                      ))\n",
    "    conn.commit()   "
   ]
  },
  {
   "cell_type": "code",
   "execution_count": 22,
   "metadata": {},
   "outputs": [],
   "source": [
    "# download tweets of retweets\n",
    "\n",
    "\n",
    "add_new_tweets = \"\"\" INSERT INTO tweet \n",
    "(\n",
    "source_device, \n",
    "in_reply_to_status_id, \n",
    "in_reply_to_user_id, \n",
    "in_reply_to_screen_name, \n",
    "retweet_count, \n",
    "favorite_count, \n",
    "retweeted, \n",
    "retweeted_tweet_id, \n",
    "retweeted_tweet_author,\n",
    "id,\n",
    "content,\n",
    "author_id,\n",
    "date) \n",
    "VALUES (%s, %s, %s, %s, %s, %s, %s, %s, %s, %s, %s, %s, %s)\n",
    "\"\"\"\n",
    "\n",
    "select_new_tweets_ids = \"\"\"\n",
    "select distinct retweeted_tweet_id\n",
    "from public.re_tweet\n",
    "where retweeted_tweet_id::bigint not in (\n",
    "select id from tweet\n",
    ");\n",
    "\"\"\"\n",
    "\n",
    "\n",
    "select_more_tweets_ids = \"\"\"\n",
    "select distinct in_reply_to_status_id\n",
    "from public.tweet\n",
    "where in_reply_to_status_id::bigint not in (\n",
    "select id from tweet\n",
    ");\n",
    "\"\"\"\n",
    "\n",
    "\n",
    "# INSERT INTO table_name (column1, column2, column3, ...)\n",
    "# VALUES (value1, value2, value3, ...);\n"
   ]
  },
  {
   "cell_type": "code",
   "execution_count": 23,
   "metadata": {},
   "outputs": [
    {
     "name": "stdout",
     "output_type": "stream",
     "text": [
      "145\n"
     ]
    }
   ],
   "source": [
    "# GET ALL IDS OF NEW TWEETS\n",
    "\n",
    "def zmien(n):\n",
    "    return int(n[0])\n",
    "\n",
    "cur.execute(select_new_tweets_ids)\n",
    "ids = map(zmien, cur.fetchall())\n",
    "print len(ids)"
   ]
  },
  {
   "cell_type": "code",
   "execution_count": 24,
   "metadata": {},
   "outputs": [
    {
     "name": "stdout",
     "output_type": "stream",
     "text": [
      "Starting download..\n",
      "getting tweets batch: 0\n",
      "getting tweets batch: 1\n",
      "inserting...\n"
     ]
    }
   ],
   "source": [
    "# DOWNLOADING STATUSES DATA\n",
    "print \"Starting download..\"\n",
    "tweets = lookup_tweets_list(ids, api)\n",
    "\n",
    "print \"inserting...\"\n",
    "for status in tweets:\n",
    "    try:\n",
    "        retweeted_tweet_id = status.retweeted_status.id\n",
    "        retweeted_tweet_author =  status.retweeted_status.user.id\n",
    "    except:\n",
    "        retweeted_tweet_id = None\n",
    "        retweeted_tweet_author =  None\n",
    "        \n",
    "        cur.execute(add_new_tweets, (status.source, \n",
    "            status.in_reply_to_status_id, \n",
    "            status.in_reply_to_user_id,\n",
    "            status.in_reply_to_screen_name,\n",
    "            status.retweet_count,\n",
    "            status.favorite_count,\n",
    "            status.retweeted,\n",
    "            retweeted_tweet_id, \n",
    "            retweeted_tweet_author,\n",
    "            status.id,\n",
    "            status.text,\n",
    "            status.user.id,\n",
    "            status.created_at\n",
    "        ))\n",
    "        conn.commit()   "
   ]
  },
  {
   "cell_type": "code",
   "execution_count": null,
   "metadata": {},
   "outputs": [],
   "source": []
  }
 ],
 "metadata": {
  "kernelspec": {
   "display_name": "Python 2",
   "language": "python",
   "name": "python2"
  },
  "language_info": {
   "codemirror_mode": {
    "name": "ipython",
    "version": 2
   },
   "file_extension": ".py",
   "mimetype": "text/x-python",
   "name": "python",
   "nbconvert_exporter": "python",
   "pygments_lexer": "ipython2",
   "version": "2.7.15"
  }
 },
 "nbformat": 4,
 "nbformat_minor": 2
}
