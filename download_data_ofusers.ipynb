{
 "cells": [
  {
   "cell_type": "code",
   "execution_count": 5,
   "metadata": {
    "scrolled": true
   },
   "outputs": [
    {
     "name": "stdout",
     "output_type": "stream",
     "text": [
      "Connected to the database\n",
      "Properly set all tables\n"
     ]
    }
   ],
   "source": [
    "import tweepy\n",
    "import csv\n",
    "import pandas as pd\n",
    "import psycopg2\n",
    "\n",
    "# Connect to DB\n",
    "\n",
    "consumer_key = 'KfMKNmydahwQSubsT297DpbYt'\n",
    "consumer_secret = 'ccCdXjEEM1vPsuA4sgJNAOTwW9EueZHejhBe42VjO2brWexLdt'\n",
    "access_token = '819912293521772548-hE5XFuCPGIh5K6GWKp541zwf06YJ4sg'\n",
    "access_token_secret = 'RQahNZKvkS5iVFr5bKF1PI9HpW6yxmhWyPI5weGKU5yaR'\n",
    "\n",
    "auth = tweepy.OAuthHandler(consumer_key, consumer_secret)\n",
    "auth.set_access_token(access_token, access_token_secret)\n",
    "api = tweepy.API(auth,wait_on_rate_limit=True)\n",
    "\n",
    "try:\n",
    "    conn = psycopg2.connect(\"dbname=eksploracja_danych user=postgres password=postgres\", host=\"localhost\")\n",
    "    print \"Connected to the database\"\n",
    "except:\n",
    "    print \"I am unable to connect to the database\"\n",
    "    \n",
    "cur = conn.cursor()\n",
    "\n",
    "# Try on connection\n",
    "\n",
    "try:\n",
    "    cur.execute(\"\"\"SELECT id, phrase FROM hashtag\"\"\")\n",
    "    cur.execute(\"\"\"SELECT author_id, tweet_id, date FROM re_tweet\"\"\")\n",
    "    cur.execute(\"\"\"SELECT id, name FROM author\"\"\")\n",
    "    cur.execute(\"\"\"SELECT id, author_id, searched_hashtag_id, date, content from tweet\"\"\")\n",
    "    print \"Properly set all tables\"\n",
    "except:\n",
    "    print \"I can't properly commit transactions to DB\""
   ]
  },
  {
   "cell_type": "code",
   "execution_count": 4,
   "metadata": {},
   "outputs": [
    {
     "name": "stdout",
     "output_type": "stream",
     "text": [
      "4448936200\n",
      "kozalinka53\n",
      "Teresa\n",
      "\n",
      "286\n",
      "154371\n",
      "2015-12-11 13:39:07\n",
      "False\n",
      "267\n"
     ]
    }
   ],
   "source": [
    "# TEST RUN\n",
    "\n",
    "user = api.lookup_users(['4448936200'])[0]\n",
    "print user.id\n",
    "print user.screen_name\n",
    "print user.name\n",
    "print user.description\n",
    "print user.followers_count\n",
    "print user.statuses_count\n",
    "print user.created_at\n",
    "print user.verified\n",
    "print user.friends_count\n",
    "\n",
    "# insert_author_details = \"\"\"INSERT INTO author \n",
    "# (id, name, screen_name, followers_count, statuses_count, created_at) \n",
    "# VALUES (%s, %s, %s, %s, %s, %s)\"\"\"\n",
    "\n",
    "# cur.execute(insert_author_details, (user.id, user.name, user.screen_name, \n",
    "#                                     user.followers_count, user.statuses_count, created_at))\n",
    "# conn.commit()"
   ]
  },
  {
   "cell_type": "code",
   "execution_count": 19,
   "metadata": {},
   "outputs": [],
   "source": [
    "def zmien(n):\n",
    "    return int(n[0])\n",
    "\n",
    "cur.execute(\"\"\"SELECT id FROM author_backup\"\"\")\n",
    "ids = map(zmien, cur.fetchall())\n",
    "len(ids)"
   ]
  },
  {
   "cell_type": "code",
   "execution_count": 8,
   "metadata": {},
   "outputs": [],
   "source": [
    "def lookup_user_list(followers_id, api):\n",
    "    full_users = []\n",
    "    users_count = len(followers_id)\n",
    "    while True:\n",
    "        try:\n",
    "            for i in range((users_count / 100) + 1):\n",
    "                full_users.extend(api.lookup_users(user_ids=followers_id[i*100:min((i+1)*100, users_count)]))\n",
    "                print 'getting users batch:', i\n",
    "        except tweepy.TweepError as e:\n",
    "            print 'Something went wrong, quitting...', e\n",
    "            time.sleep(15 * 60)\n",
    "        return full_users"
   ]
  },
  {
   "cell_type": "code",
   "execution_count": 28,
   "metadata": {},
   "outputs": [
    {
     "name": "stdout",
     "output_type": "stream",
     "text": [
      "getting users batch: 0\n",
      "getting users batch: 1\n",
      "getting users batch: 2\n",
      "getting users batch: 3\n",
      "getting users batch: 4\n",
      "getting users batch: 5\n",
      "getting users batch: 6\n",
      "getting users batch: 7\n",
      "getting users batch: 8\n",
      "getting users batch: 9\n",
      "getting users batch: 10\n",
      "getting users batch: 11\n",
      "getting users batch: 12\n",
      "getting users batch: 13\n",
      "getting users batch: 14\n",
      "getting users batch: 15\n",
      "getting users batch: 16\n",
      "getting users batch: 17\n",
      "getting users batch: 18\n",
      "getting users batch: 19\n",
      "getting users batch: 20\n",
      "getting users batch: 21\n",
      "getting users batch: 22\n",
      "getting users batch: 23\n"
     ]
    }
   ],
   "source": [
    "\n",
    "# idks = ['4448936200']\n",
    "tw_users = lookup_user_list(ids, api)\n",
    "for user in tw_users:\n",
    "    insert_author_details = \"\"\"INSERT INTO author \n",
    "    (id, name, screen_name, followers_count, statuses_count, created_at) \n",
    "    VALUES (%s, %s, %s, %s, %s, %s)\"\"\"\n",
    "\n",
    "    cur.execute(insert_author_details, (user.id, user.name, user.screen_name, \n",
    "                                        user.followers_count, user.statuses_count, user.created_at))\n",
    "    conn.commit()    "
   ]
  },
  {
   "cell_type": "code",
   "execution_count": 29,
   "metadata": {},
   "outputs": [
    {
     "data": {
      "text/plain": [
       "6560"
      ]
     },
     "execution_count": 29,
     "metadata": {},
     "output_type": "execute_result"
    }
   ],
   "source": [
    "def zmien(n):\n",
    "    return int(n[0])\n",
    "\n",
    "cur.execute(\"\"\"select distinct author_id from re_tweet where author_id not in (select id from author)\"\"\")\n",
    "ids = map(zmien, cur.fetchall())\n",
    "len(ids)"
   ]
  },
  {
   "cell_type": "code",
   "execution_count": 30,
   "metadata": {},
   "outputs": [
    {
     "name": "stdout",
     "output_type": "stream",
     "text": [
      "getting users batch: 0\n",
      "getting users batch: 1\n",
      "getting users batch: 2\n",
      "getting users batch: 3\n",
      "getting users batch: 4\n",
      "getting users batch: 5\n",
      "getting users batch: 6\n",
      "getting users batch: 7\n",
      "getting users batch: 8\n",
      "getting users batch: 9\n",
      "getting users batch: 10\n",
      "getting users batch: 11\n",
      "getting users batch: 12\n",
      "getting users batch: 13\n",
      "getting users batch: 14\n",
      "getting users batch: 15\n",
      "getting users batch: 16\n",
      "getting users batch: 17\n",
      "getting users batch: 18\n",
      "getting users batch: 19\n",
      "getting users batch: 20\n",
      "getting users batch: 21\n",
      "getting users batch: 22\n",
      "getting users batch: 23\n",
      "getting users batch: 24\n",
      "getting users batch: 25\n",
      "getting users batch: 26\n",
      "getting users batch: 27\n",
      "getting users batch: 28\n",
      "getting users batch: 29\n",
      "getting users batch: 30\n",
      "getting users batch: 31\n",
      "getting users batch: 32\n",
      "getting users batch: 33\n",
      "getting users batch: 34\n",
      "getting users batch: 35\n",
      "getting users batch: 36\n",
      "getting users batch: 37\n",
      "getting users batch: 38\n",
      "getting users batch: 39\n",
      "getting users batch: 40\n",
      "getting users batch: 41\n",
      "getting users batch: 42\n",
      "getting users batch: 43\n",
      "getting users batch: 44\n",
      "getting users batch: 45\n",
      "getting users batch: 46\n",
      "getting users batch: 47\n",
      "getting users batch: 48\n",
      "getting users batch: 49\n",
      "getting users batch: 50\n",
      "getting users batch: 51\n",
      "getting users batch: 52\n",
      "getting users batch: 53\n",
      "getting users batch: 54\n",
      "getting users batch: 55\n",
      "getting users batch: 56\n",
      "getting users batch: 57\n",
      "getting users batch: 58\n",
      "getting users batch: 59\n",
      "getting users batch: 60\n",
      "getting users batch: 61\n",
      "getting users batch: 62\n",
      "getting users batch: 63\n",
      "getting users batch: 64\n",
      "getting users batch: 65\n"
     ]
    }
   ],
   "source": [
    "\n",
    "# idks = ['4448936200']\n",
    "tw_users = lookup_user_list(ids, api)\n",
    "for user in tw_users:\n",
    "    insert_author_details = \"\"\"INSERT INTO author \n",
    "    (id, name, screen_name, followers_count, statuses_count, created_at) \n",
    "    VALUES (%s, %s, %s, %s, %s, %s)\"\"\"\n",
    "\n",
    "    cur.execute(insert_author_details, (user.id, user.name, user.screen_name, \n",
    "                                        user.followers_count, user.statuses_count, user.created_at))\n",
    "    conn.commit()  "
   ]
  },
  {
   "cell_type": "code",
   "execution_count": null,
   "metadata": {},
   "outputs": [],
   "source": [
    "# UPDATE AUTHORS\n"
   ]
  },
  {
   "cell_type": "code",
   "execution_count": 6,
   "metadata": {},
   "outputs": [
    {
     "name": "stdout",
     "output_type": "stream",
     "text": [
      "4448936200\n",
      "kozalinka53\n",
      "Teresa\n",
      "\n",
      "286\n",
      "154369\n",
      "2015-12-11 13:39:07\n",
      "False\n",
      "267\n"
     ]
    }
   ],
   "source": [
    "# TEST RUN\n",
    "\n",
    "user = api.lookup_users(['4448936200'])[0]\n",
    "print user.id\n",
    "print user.screen_name\n",
    "print user.name\n",
    "print user.description\n",
    "print user.followers_count\n",
    "print user.statuses_count\n",
    "print user.created_at\n",
    "print user.verified\n",
    "print user.friends_count\n",
    "\n",
    "update_author_details = \"\"\"UPDATE author \n",
    "SET\n",
    "verified = %s,\n",
    "friends_count = %s\n",
    "WHERE\n",
    "id = %s;\n",
    "\"\"\"\n",
    "\n",
    "\n",
    "cur.execute(update_author_details, (\n",
    "    user.verified, \n",
    "    user.friends_count, \n",
    "    user.id\n",
    "))\n",
    "\n",
    "conn.commit()"
   ]
  },
  {
   "cell_type": "code",
   "execution_count": 7,
   "metadata": {},
   "outputs": [
    {
     "data": {
      "text/plain": [
       "8847"
      ]
     },
     "execution_count": 7,
     "metadata": {},
     "output_type": "execute_result"
    }
   ],
   "source": [
    "\n",
    "def zmien(n):\n",
    "    return int(n[0])\n",
    "\n",
    "cur.execute(\"\"\"select id from author\"\"\")\n",
    "ids = map(zmien, cur.fetchall())\n",
    "len(ids)\n"
   ]
  },
  {
   "cell_type": "code",
   "execution_count": 9,
   "metadata": {},
   "outputs": [
    {
     "name": "stdout",
     "output_type": "stream",
     "text": [
      "getting users batch: 0\n",
      "getting users batch: 1\n",
      "getting users batch: 2\n",
      "getting users batch: 3\n",
      "getting users batch: 4\n",
      "getting users batch: 5\n",
      "getting users batch: 6\n",
      "getting users batch: 7\n",
      "getting users batch: 8\n",
      "getting users batch: 9\n",
      "getting users batch: 10\n",
      "getting users batch: 11\n",
      "getting users batch: 12\n",
      "getting users batch: 13\n",
      "getting users batch: 14\n",
      "getting users batch: 15\n",
      "getting users batch: 16\n",
      "getting users batch: 17\n",
      "getting users batch: 18\n",
      "getting users batch: 19\n",
      "getting users batch: 20\n",
      "getting users batch: 21\n",
      "getting users batch: 22\n",
      "getting users batch: 23\n",
      "getting users batch: 24\n",
      "getting users batch: 25\n",
      "getting users batch: 26\n",
      "getting users batch: 27\n",
      "getting users batch: 28\n",
      "getting users batch: 29\n",
      "getting users batch: 30\n",
      "getting users batch: 31\n",
      "getting users batch: 32\n",
      "getting users batch: 33\n",
      "getting users batch: 34\n",
      "getting users batch: 35\n",
      "getting users batch: 36\n",
      "getting users batch: 37\n",
      "getting users batch: 38\n",
      "getting users batch: 39\n",
      "getting users batch: 40\n",
      "getting users batch: 41\n",
      "getting users batch: 42\n",
      "getting users batch: 43\n",
      "getting users batch: 44\n",
      "getting users batch: 45\n",
      "getting users batch: 46\n",
      "getting users batch: 47\n",
      "getting users batch: 48\n",
      "getting users batch: 49\n",
      "getting users batch: 50\n",
      "getting users batch: 51\n",
      "getting users batch: 52\n",
      "getting users batch: 53\n",
      "getting users batch: 54\n",
      "getting users batch: 55\n",
      "getting users batch: 56\n",
      "getting users batch: 57\n",
      "getting users batch: 58\n",
      "getting users batch: 59\n",
      "getting users batch: 60\n",
      "getting users batch: 61\n",
      "getting users batch: 62\n",
      "getting users batch: 63\n",
      "getting users batch: 64\n",
      "getting users batch: 65\n",
      "getting users batch: 66\n",
      "getting users batch: 67\n",
      "getting users batch: 68\n",
      "getting users batch: 69\n",
      "getting users batch: 70\n",
      "getting users batch: 71\n",
      "getting users batch: 72\n",
      "getting users batch: 73\n",
      "getting users batch: 74\n",
      "getting users batch: 75\n",
      "getting users batch: 76\n",
      "getting users batch: 77\n",
      "getting users batch: 78\n",
      "getting users batch: 79\n",
      "getting users batch: 80\n",
      "getting users batch: 81\n",
      "getting users batch: 82\n",
      "getting users batch: 83\n",
      "getting users batch: 84\n",
      "getting users batch: 85\n",
      "getting users batch: 86\n",
      "getting users batch: 87\n",
      "getting users batch: 88\n"
     ]
    }
   ],
   "source": [
    "\n",
    "tw_users = lookup_user_list(ids, api)\n",
    "for user in tw_users:\n",
    "    cur.execute(update_author_details, (\n",
    "        user.verified, \n",
    "        user.friends_count, \n",
    "        user.id\n",
    "    ))\n",
    "\n",
    "    conn.commit()"
   ]
  },
  {
   "cell_type": "code",
   "execution_count": null,
   "metadata": {},
   "outputs": [],
   "source": []
  }
 ],
 "metadata": {
  "kernelspec": {
   "display_name": "Python 2",
   "language": "python",
   "name": "python2"
  },
  "language_info": {
   "codemirror_mode": {
    "name": "ipython",
    "version": 2
   },
   "file_extension": ".py",
   "mimetype": "text/x-python",
   "name": "python",
   "nbconvert_exporter": "python",
   "pygments_lexer": "ipython2",
   "version": "2.7.15"
  }
 },
 "nbformat": 4,
 "nbformat_minor": 2
}
