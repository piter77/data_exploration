{
 "cells": [
  {
   "cell_type": "code",
   "execution_count": null,
   "metadata": {
    "scrolled": true
   },
   "outputs": [],
   "source": [
    "import tweepy\n",
    "import csv\n",
    "import pandas as pd\n",
    "import psycopg2\n",
    "\n",
    "# Connect to DB\n",
    "\n",
    "consumer_key = 'KfMKNmydahwQSubsT297DpbYt'\n",
    "consumer_secret = 'ccCdXjEEM1vPsuA4sgJNAOTwW9EueZHejhBe42VjO2brWexLdt'\n",
    "access_token = '819912293521772548-hE5XFuCPGIh5K6GWKp541zwf06YJ4sg'\n",
    "access_token_secret = 'RQahNZKvkS5iVFr5bKF1PI9HpW6yxmhWyPI5weGKU5yaR'\n",
    "\n",
    "auth = tweepy.OAuthHandler(consumer_key, consumer_secret)\n",
    "auth.set_access_token(access_token, access_token_secret)\n",
    "api = tweepy.API(auth,wait_on_rate_limit=True)\n",
    "\n",
    "try:\n",
    "    conn = psycopg2.connect(\"dbname=eksploracja_danych user=postgres password=postgres\", host=\"localhost\")\n",
    "    print \"Connected to the database\"\n",
    "except:\n",
    "    print \"I am unable to connect to the database\"\n",
    "    \n",
    "cur = conn.cursor()\n",
    "\n",
    "# Try on connection\n",
    "\n",
    "try:\n",
    "    cur.execute(\"\"\"SELECT id, phrase FROM hashtag\"\"\")\n",
    "    cur.execute(\"\"\"SELECT author_id, tweet_id, date FROM re_tweet\"\"\")\n",
    "    cur.execute(\"\"\"SELECT id, name FROM author\"\"\")\n",
    "    cur.execute(\"\"\"SELECT id, author_id, searched_hashtag_id, date, content from tweet\"\"\")\n",
    "    print \"Properly set all tables\"\n",
    "except:\n",
    "    print \"I can't properly commit transactions to DB\""
   ]
  },
  {
   "cell_type": "code",
   "execution_count": null,
   "metadata": {},
   "outputs": [],
   "source": [
    "# Prepare download\n",
    "\n",
    "insert_tag_sql = \"INSERT INTO hashtag (phrase) VALUES (%s) RETURNING id\"\n",
    "insert_retweet_sql = \"INSERT INTO re_tweet (author_id, tweet_id, date) VALUES (%s, %s, %s)\"\n",
    "insert_user_sql = \"INSERT INTO author (id, name) VALUES (%s, %s)\"\n",
    "insert_tweet_sql = \"INSERT INTO tweet (id, author_id, searched_hashtag_id, date, content) VALUES (%s, %s, %s, %s, %s)\"\n",
    "\n",
    "\n",
    "tags = [\n",
    "#      \"#WspólnieTworzymyPrzyszłośćKrakowa\"\n",
    "#     \"#NowyPrezydentWiekszeMozliwości\"\n",
    "#       \"#wybory\"\n",
    "     \"#Wybory2018\"\n",
    "#     \"#WyborySamorzadowe\"\n",
    "#      \"#wyborysamorzadowe2018\"\n",
    "       ]"
   ]
  },
  {
   "cell_type": "code",
   "execution_count": null,
   "metadata": {},
   "outputs": [],
   "source": [
    "for tag in tags:\n",
    "    csvFile = open(tag+ '.csv', 'a')\n",
    "    csvWriter = csv.writer(csvFile)\n",
    "\n",
    "    cur.execute(insert_tag_sql, (tag,))\n",
    "    conn.commit()\n",
    "    tag_id = cur.fetchone()[0]\n",
    "    print(tag)\n",
    "\n",
    "    for tweet in tweepy.Cursor(api.search,q=tag,\n",
    "                           lang=\"pl\",\n",
    "                           since=\"2018-10-28\",\n",
    "                           until=\"2018-11-08\").items():\n",
    "#         print tweet.text.encode('utf-8')\n",
    "#         print tweet.retweet_count    \n",
    "#         print tweet.author.__dict__.keys()\n",
    "#         print \"\\n\\n\\n\"\n",
    "\n",
    "        if hasattr(tweet, 'retweeted_status') or \"RT @\" in tweet.text.encode('utf-8'):\n",
    "#             print('retweet')\n",
    "            cur.execute(insert_retweet_sql, (tweet.author.id, tweet.id, tweet.created_at))\n",
    "            conn.commit()\n",
    "        else:\n",
    "            print(tweet.created_at)\n",
    "            try:\n",
    "                cur.execute(insert_tweet_sql, (tweet.id, tweet.author.id, tag_id,  tweet.created_at, tweet.text.encode('utf-8')))\n",
    "            except:\n",
    "                print(\"this tweet already exists in db\")\n",
    "            try:\n",
    "                cur.execute(insert_user_sql, (tweet.author.id, tweet.author.name))\n",
    "            except:\n",
    "                print(\"this author exists\")\n",
    "            conn.commit()\n",
    "\n",
    "        csvWriter.writerow([tweet.created_at, tweet.text.encode('utf-8')])\n",
    "    \n",
    "    print \"TAG END\"\n",
    "\n"
   ]
  },
  {
   "cell_type": "code",
   "execution_count": null,
   "metadata": {},
   "outputs": [],
   "source": []
  }
 ],
 "metadata": {
  "kernelspec": {
   "display_name": "Python 2",
   "language": "python",
   "name": "python2"
  },
  "language_info": {
   "codemirror_mode": {
    "name": "ipython",
    "version": 2
   },
   "file_extension": ".py",
   "mimetype": "text/x-python",
   "name": "python",
   "nbconvert_exporter": "python",
   "pygments_lexer": "ipython2",
   "version": "2.7.15"
  }
 },
 "nbformat": 4,
 "nbformat_minor": 2
}
